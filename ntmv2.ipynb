{
 "cells": [
  {
   "cell_type": "code",
   "execution_count": 9,
   "metadata": {
    "scrolled": true
   },
   "outputs": [
    {
     "name": "stdout",
     "output_type": "stream",
     "text": [
      "新聞標題：首創自動直向投影模式 宏碁可攜式LED投影機正式開賣\n",
      "\n",
      "\n",
      "\n",
      "宏碁今天宣布推出突破傳統思維打造的C250i可攜式LED無線投影機，主打多角度觀看、高解析度、電池續航力與易用性、僅770g等多項優點，宏碁表示，C250i具有滾輪式獨特造型、無需三腳架、支援多角度方向投影，且具備世界首創自動縱向投影模式，可隨時隨地輕鬆分享智慧型手機的內容。\n",
      "\r\n",
      "宏碁表示，Acer C250i不同於其他投影機僅能橫向投影，獨特的旋轉外型設計，擺放無須三腳架，可支援多角度投影，有效運用空間，於牆面、天花板或任何平面投影，保有彈性的投影角度，不被環境間侷限。\r\n",
      ".article-content__editor video {max-width: 100%;} /* to be remove*/\r\n",
      "\n",
      "\n",
      "\n",
      "\n",
      "\r\n",
      "    googletag.cmd.push(function() { googletag.display('ads-inline'); });\r\n",
      "  \n",
      "\n",
      "\n",
      "\n",
      "\n",
      "\n",
      "\n",
      "\n",
      "\r\n",
      "Acer C250i側放時，可「滾動」投影機找到最佳角度，在牆面或天花板上觀看內容；直立時，則支援橫向牆面投影，並啟動自動直向投影模式，可直接進行無線直向投影視訊聊天或直播串流 (例如：在Facebook或Instagram上)，並支援影像側邊無黑邊的全畫面投影，同時搭載先進的影像梯形校正功能，使螢幕上的內容不管在任何角度都能完美呈現。\n",
      "\r\n",
      "宏碁表示，Acer C250i體積輕巧770g，支援1080P高畫質影像，且電池單次充電後，即可最高5小時電池續航力，同時亦可做為行動電源，即使移動中也能為手機充電。Acer C250i的LED模組具備長達30,000小時的使用壽命，廣色域具100% NTSC相容性、300 ANSI流明亮度與5,000：1對比度，內建5瓦藍牙喇叭，讓使用者在觀看影片時，皆能享有投影機同級中最佳的音質。\n",
      "\r\n",
      " 除無線連接功能之外，Acer C250i配備標準HDMI連接埠，可連接筆電或桌機觀看內容，同時具備USB Type-C與Type-A連接埠以支援智慧型手機與電腦的影像輸出，使用Apple或Android的手機充電線，就可以鏡像投影同時還為手機充電，不用擔心投影時手機電量問題，且無需安裝額外軟體或驅動程式，100%隨插即用；此外，USB Type-A連接埠也可直接從USB隨身碟播放多媒體影像，無須攜帶電腦，十分便利。宏碁突破傳統思維打造C250i可攜式LED無線投影機，滾輪式獨特造型、無需三腳架、支援多角度方向投影，且具備世界首創自動縱向投影模式。宏碁提供把Money省下來！2020聰明報稅全攻略 \n",
      " ▪報稅新制上路 今年政府發了那些紅包？ ▪手頭緊別慌！緩繳稅及退稅資訊一次看懂\n"
     ]
    }
   ],
   "source": [
    "#find keywords\n",
    "from urllib import request\n",
    "from bs4 import BeautifulSoup\n",
    "import pandas as pd\n",
    "import jieba\n",
    "import jieba.analyse\n",
    "\n",
    "#input news article URL\n",
    "url = \"https://udn.com/news/story/7240/4523141?from=udn-ch1_breaknews-1-0-news\"\n",
    "\n",
    "#set user agent\n",
    "req = request.Request(url)\n",
    "req.add_header(\"User-Agent\", \"Mozilla/5.0 (Windows NT 10.0; Win64; x64) AppleWebKit/537.36 (KHTML, like Gecko) Chrome/81.0.4044.122 Safari/537.36\")\n",
    "response = request.urlopen(req)\n",
    "data = response.read().decode(\"utf-8\")\n",
    "\n",
    "#read data in html format\n",
    "html = BeautifulSoup(data,\"html.parser\")\n",
    "\n",
    "title = html.find(\"h1\")\n",
    "print(\"新聞標題：\"+title.string)\n",
    "articleContent = html.find_all(\"div\",class_=\"article-content__paragraph\")\n",
    "#print(articleContent)\n",
    "\n",
    "article = []\n",
    "for p in articleContent:\n",
    "    article.append(p.text)\n",
    "articleAll = '\\n'.join(article)\n",
    "print(articleAll)"
   ]
  },
  {
   "cell_type": "code",
   "execution_count": 15,
   "metadata": {},
   "outputs": [
    {
     "name": "stdout",
     "output_type": "stream",
     "text": [
      "['投影', '宏碁', '手機', '支援', '無線', '觀看', '具備', '內容', '影像', '多角度', '電池', '牆面', '充電', '傳統', '思維', '航力', '輪式', '無需', '首創', '縱向']\n",
      "投影 0.5431083179891563\n",
      "C250i 0.2988691875725\n",
      "宏碁 0.22415189067937497\n",
      "手機 0.1867932422328125\n",
      "Acer 0.1867932422328125\n",
      "支援 0.15500919775949998\n",
      "具備 0.14943459378625\n",
      "內容 0.14943459378625\n",
      "同時 0.14943459378625\n",
      "連接 0.14943459378625\n",
      "影像 0.13809504092109376\n",
      "多角度 0.1296789640925\n",
      "LED 0.11207594533968748\n",
      "無線 0.11207594533968748\n",
      "獨特 0.11207594533968748\n",
      "牆面 0.11207594533968748\n",
      "100% 0.11207594533968748\n",
      "充電 0.11207594533968748\n",
      "USB 0.11207594533968748\n",
      "Type 0.11207594533968748\n"
     ]
    }
   ],
   "source": [
    "keywords = jieba.analyse.extract_tags(articleAll, topK=20, withWeight=False, allowPOS=('ns', 'n', 'vn', 'v'))\n",
    "print(keywords)\n",
    "for word, value in jieba.analyse.extract_tags(articleAll, withWeight=True):\n",
    "    print(\"%s %s\" % (word,value))\n"
   ]
  },
  {
   "cell_type": "code",
   "execution_count": null,
   "metadata": {},
   "outputs": [],
   "source": []
  }
 ],
 "metadata": {
  "kernelspec": {
   "display_name": "Python 3",
   "language": "python",
   "name": "python3"
  },
  "language_info": {
   "codemirror_mode": {
    "name": "ipython",
    "version": 3
   },
   "file_extension": ".py",
   "mimetype": "text/x-python",
   "name": "python",
   "nbconvert_exporter": "python",
   "pygments_lexer": "ipython3",
   "version": "3.7.6"
  }
 },
 "nbformat": 4,
 "nbformat_minor": 4
}
