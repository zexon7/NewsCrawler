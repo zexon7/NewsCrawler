{
 "cells": [
  {
   "cell_type": "code",
   "execution_count": 1,
   "metadata": {
    "scrolled": true
   },
   "outputs": [
    {
     "ename": "ModuleNotFoundError",
     "evalue": "No module named 'bs4'",
     "output_type": "error",
     "traceback": [
      "\u001b[1;31m---------------------------------------------------------------------------\u001b[0m",
      "\u001b[1;31mModuleNotFoundError\u001b[0m                       Traceback (most recent call last)",
      "\u001b[1;32m<ipython-input-1-b0a395e5d219>\u001b[0m in \u001b[0;36m<module>\u001b[1;34m\u001b[0m\n\u001b[0;32m      1\u001b[0m \u001b[1;31m#output csv\u001b[0m\u001b[1;33m\u001b[0m\u001b[1;33m\u001b[0m\u001b[1;33m\u001b[0m\u001b[0m\n\u001b[0;32m      2\u001b[0m \u001b[1;32mfrom\u001b[0m \u001b[0murllib\u001b[0m \u001b[1;32mimport\u001b[0m \u001b[0mrequest\u001b[0m\u001b[1;33m\u001b[0m\u001b[1;33m\u001b[0m\u001b[0m\n\u001b[1;32m----> 3\u001b[1;33m \u001b[1;32mfrom\u001b[0m \u001b[0mbs4\u001b[0m \u001b[1;32mimport\u001b[0m \u001b[0mBeautifulSoup\u001b[0m\u001b[1;33m\u001b[0m\u001b[1;33m\u001b[0m\u001b[0m\n\u001b[0m\u001b[0;32m      4\u001b[0m \u001b[1;32mimport\u001b[0m \u001b[0mpandas\u001b[0m \u001b[1;32mas\u001b[0m \u001b[0mpd\u001b[0m\u001b[1;33m\u001b[0m\u001b[1;33m\u001b[0m\u001b[0m\n\u001b[0;32m      5\u001b[0m \u001b[1;32mimport\u001b[0m \u001b[0mnumpy\u001b[0m \u001b[1;32mas\u001b[0m \u001b[0mnp\u001b[0m\u001b[1;33m\u001b[0m\u001b[1;33m\u001b[0m\u001b[0m\n",
      "\u001b[1;31mModuleNotFoundError\u001b[0m: No module named 'bs4'"
     ]
    }
   ],
   "source": [
    "#output csv\n",
    "from urllib import request\n",
    "from bs4 import BeautifulSoup\n",
    "import pandas as pd\n",
    "import numpy as np\n",
    "import datetime\n",
    "import time\n",
    "\n",
    "def createDataFrame(t):\n",
    "    #put data into a list\n",
    "    title_list = [p.text.strip() for p in t]\n",
    "    \n",
    "    global df\n",
    "    #check if dataframe exist\n",
    "    if c == 0:\n",
    "        df = pd.DataFrame({'title': title_list})\n",
    "    else:\n",
    "        df = df.append(pd.DataFrame({'title': title_list}), ignore_index = True)\n",
    "    \n",
    "    #check fake\n",
    "    cond1 = df['title'].str.contains('【錯誤】')\n",
    "    cond2 = df['title'].str.contains('【部分錯誤】')\n",
    "    '''\n",
    "    if title contains 【錯誤】:\n",
    "        put 'fake'\n",
    "    elif contains 【部分錯誤】:\n",
    "        put 'partial error'\n",
    "    else:\n",
    "        put 'other'\n",
    "    '''\n",
    "    df['tag'] = np.where(cond1, 'fake', np.where(cond2, 'partial error', 'other') )\n",
    "    \n",
    "def getData(url):\n",
    "    #set user agent\n",
    "    req = request.Request(url)\n",
    "    req.add_header(\"User-Agent\", \"Mozilla/5.0 (Windows NT 10.0; Win64; x64) AppleWebKit/537.36 (KHTML, like Gecko) Chrome/81.0.4044.122 Safari/537.36\")\n",
    "    response = request.urlopen(req)\n",
    "    data = response.read().decode(\"utf-8\")\n",
    "\n",
    "    #read data in html format\n",
    "    html = BeautifulSoup(data,\"html.parser\")\n",
    "    \n",
    "    #set find area\n",
    "    t = html.find_all(\"h3\", class_= \"article-title\")\n",
    "    \n",
    "    #create dataframe\n",
    "    createDataFrame(t) \n",
    "    \n",
    "    #find next page url\n",
    "    nextpage = html.find(\"a\", string = \"下一頁 ›\")\n",
    "    return nextpage[\"href\"]\n",
    "    time.sleep(5)\n",
    "\n",
    "def main(): \n",
    "    #input news article URL\n",
    "    #錯誤https://tfc-taiwan.org.tw/articles/category/26/27\n",
    "    #部分錯誤https://tfc-taiwan.org.tw/articles/category/26/28\n",
    "    fakeURL = \"https://tfc-taiwan.org.tw/articles/category/26/27\"\n",
    "    partial_errorURL = \"https://tfc-taiwan.org.tw/articles/category/26/28\"\n",
    "    global c\n",
    "    c = 0\n",
    "    for i in range(2):\n",
    "        #get next page URL from getData function\n",
    "        fakeURL = \"https://tfc-taiwan.org.tw\" + getData(fakeURL)   \n",
    "        c+=1\n",
    "    \n",
    "    for i in range(2):\n",
    "        partial_errorURL = \"https://tfc-taiwan.org.tw\" + getData(partial_errorURL)\n",
    "    \n",
    "    pd.set_option('max_colwidth',100)    \n",
    "    display(df)\n",
    "    \n",
    "    #output csv file\n",
    "    path = \"C:\\\\Users\\\\user\\Desktop\\\\newscrawler\\\\outputcsv\\\\csvdata\\\\\"\n",
    "    df.to_csv(path + 'data.csv', encoding='utf_8_sig')\n",
    "\n",
    "def sleeptime(h,m,s):\n",
    "    return h*3600 + m*60 + s\n",
    "\n",
    "#update every 6 hours\n",
    "second = sleeptime(6,0,0)\n",
    "\n",
    "while True:  \n",
    "    main()\n",
    "    time.sleep(second)\n"
   ]
  },
  {
   "cell_type": "code",
   "execution_count": null,
   "metadata": {},
   "outputs": [],
   "source": []
  }
 ],
 "metadata": {
  "kernelspec": {
   "display_name": "Python 3",
   "language": "python",
   "name": "python3"
  },
  "language_info": {
   "codemirror_mode": {
    "name": "ipython",
    "version": 3
   },
   "file_extension": ".py",
   "mimetype": "text/x-python",
   "name": "python",
   "nbconvert_exporter": "python",
   "pygments_lexer": "ipython3",
   "version": "3.7.7"
  }
 },
 "nbformat": 4,
 "nbformat_minor": 4
}
